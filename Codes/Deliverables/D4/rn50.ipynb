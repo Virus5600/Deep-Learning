{
 "cells": [
  {
   "cell_type": "markdown",
   "id": "655d3b36",
   "metadata": {},
   "source": [
    "# Deliverable #4 - RN50\n",
    "\n",
    "This notebook is dedicated solely to the **`Resnet50`**'s fine tuning.\n",
    "\n",
    "See [index notebook](index.ipynb) for instructions and other list of derivative notebooks created."
   ]
  },
  {
   "cell_type": "markdown",
   "id": "7383b395",
   "metadata": {},
   "source": [
    "## Imports\n",
    "\n",
    "All needed libraries will be imported here.\n",
    "\n",
    "Unless conditional, all imports must be done in this section to prevent workspace cluttering. Imports are sorted in an ascending manner, starting from \"a\" to \"Z\"."
   ]
  },
  {
   "cell_type": "code",
   "execution_count": null,
   "id": "c0b7f0c3",
   "metadata": {},
   "outputs": [
    {
     "name": "stderr",
     "output_type": "stream",
     "text": [
      "c:\\Users\\Virus5600\\miniconda3\\envs\\deep-learning\\lib\\site-packages\\h5py\\__init__.py:36: UserWarning: h5py is running against HDF5 1.14.6 when it was built against 1.14.5, this may cause problems\n",
      "  _warn((\"h5py is running against HDF5 {0} when it was built against {1}, \"\n"
     ]
    }
   ],
   "source": [
    "import sys\n",
    "\n",
    "sys.path.append(\"..\")\n",
    "import helpers as h"
   ]
  },
  {
   "cell_type": "code",
   "execution_count": 2,
   "id": "883ea9ce",
   "metadata": {},
   "outputs": [
    {
     "name": "stdout",
     "output_type": "stream",
     "text": [
      "Test function called.\n"
     ]
    }
   ],
   "source": [
    "h.test()"
   ]
  }
 ],
 "metadata": {
  "kernelspec": {
   "display_name": "deep-learning",
   "language": "python",
   "name": "python3"
  },
  "language_info": {
   "codemirror_mode": {
    "name": "ipython",
    "version": 3
   },
   "file_extension": ".py",
   "mimetype": "text/x-python",
   "name": "python",
   "nbconvert_exporter": "python",
   "pygments_lexer": "ipython3",
   "version": "3.10.11"
  }
 },
 "nbformat": 4,
 "nbformat_minor": 5
}
